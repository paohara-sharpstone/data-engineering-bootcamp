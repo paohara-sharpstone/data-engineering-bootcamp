{
 "cells": [
  {
   "cell_type": "markdown",
   "metadata": {},
   "source": [
    "# Module 1 - Jour 1-2 : Configuration Environnement Local\n",
    "\n",
    "## Objectifs\n",
    "\n",
    "Installer et configurer Python, VS Code et Git, configurer GitHub avec authentification SSH et 2FA, maîtriser Poetry pour la gestion des dépendances, et créer son premier projet Data Engineering."
   ]
  },
  {
   "cell_type": "markdown",
   "metadata": {},
   "source": [
    "## 1. Installation Python, VS Code et Git\n",
    "\n",
    "### Python 3.11+\n",
    "\n",
    "Téléchargez Python depuis python.org et installez la version 3.11 ou supérieure.\n",
    "\n",
    "### VS Code\n",
    "\n",
    "Téléchargez et installez VS Code depuis code.visualstudio.com\n",
    "\n",
    "Extensions recommandées : Python (Microsoft), Jupyter (Microsoft), GitLens (GitKraken), Docker (Microsoft), YAML (Red Hat)\n",
    "\n",
    "### Git\n",
    "\n",
    "Téléchargez Git depuis git-scm.com et installez-le avec Git Bash.\n",
    "\n",
    "Configuration initiale de Git à exécuter dans Git Bash :"
   ]
  },
  {
   "cell_type": "code",
   "execution_count": null,
   "metadata": {},
   "outputs": [],
   "source": [
    "# Configuration Git (à exécuter dans Git Bash)\n",
    "# git config --global user.name \"Votre Nom\"\n",
    "# git config --global user.email \"votre.email@example.com\""
   ]
  },
  {
   "cell_type": "markdown",
   "metadata": {},
   "source": [
    "## 2. Configuration GitHub avec SSH et 2FA\n",
    "\n",
    "### Activation du 2FA (Authentification à Deux Facteurs)\n",
    "\n",
    "L'authentification à deux facteurs ajoute une couche de sécurité supplémentaire à votre compte GitHub. Au lieu de vous connecter uniquement avec votre mot de passe, vous devrez également fournir un code temporaire généré par une application d'authentification.\n",
    "\n",
    "**Pourquoi utiliser 2FA :**\n",
    "- Protection contre le piratage de compte même si votre mot de passe est compromis\n",
    "- Sécurisation de vos repositories et données sensibles\n",
    "- Conformité aux bonnes pratiques de sécurité en entreprise\n",
    "- Prévention des accès non autorisés à vos projets\n",
    "\n",
    "**Étapes d'activation :**\n",
    "1. Connectez-vous sur github.com\n",
    "2. Allez dans Settings → Password and authentication\n",
    "3. Cliquez sur Enable two-factor authentication\n",
    "4. Choisissez Authenticator app (recommandé car plus sécurisé que SMS)\n",
    "5. Scannez le QR code avec votre app (Microsoft Authenticator, Google Authenticator, Authy)\n",
    "6. Sauvegardez les codes de récupération dans un endroit sûr (ces codes vous permettront de récupérer l'accès si vous perdez votre téléphone)"
   ]
  },
  {
   "cell_type": "markdown",
   "metadata": {},
   "source": [
    "### Génération des clés SSH\n",
    "\n",
    "SSH (Secure Shell) utilise une cryptographie à clé publique pour sécuriser les connexions. Une paire de clés est générée : une clé privée (gardée secrète sur votre machine) et une clé publique (partagée avec GitHub). Cette méthode est plus sécurisée que l'authentification par mot de passe et permet l'automatisation des opérations Git.\n",
    "\n",
    "Commandes à exécuter dans Git Bash :"
   ]
  },
  {
   "cell_type": "code",
   "execution_count": null,
   "metadata": {},
   "outputs": [],
   "source": [
    "# Générer une paire de clés ED25519 (algorithme moderne et sécurisé)\n",
    "# ssh-keygen -t ed25519 -C \"votre.email@example.com\"\n",
    "\n",
    "# Questions posées :\n",
    "# 1. Enter file in which to save the key → Appuyez sur Entrée (emplacement par défaut)\n",
    "# 2. Enter passphrase → Tapez une passphrase forte ou Entrée pour aucune\n",
    "# 3. Enter same passphrase again → Retapez la même passphrase"
   ]
  },
  {
   "cell_type": "code",
   "execution_count": null,
   "metadata": {},
   "outputs": [],
   "source": [
    "# Configuration de l'agent SSH\n",
    "\n",
    "# Démarrer l'agent SSH\n",
    "# eval \"$(ssh-agent -s)\"\n",
    "\n",
    "# Ajouter votre clé privée\n",
    "# ssh-add ~/.ssh/id_ed25519\n",
    "\n",
    "# Copier la clé publique dans le presse-papier\n",
    "# cat ~/.ssh/id_ed25519.pub | clip"
   ]
  },
  {
   "cell_type": "markdown",
   "metadata": {},
   "source": [
    "### Ajout de la clé sur GitHub\n",
    "\n",
    "1. Allez dans Settings → SSH and GPG keys\n",
    "2. Cliquez sur New SSH key\n",
    "3. Title : PC-Bureau-VotreNom-2024\n",
    "4. Key : Collez votre clé publique\n",
    "5. Cliquez Add SSH key\n",
    "\n",
    "Test de la connexion SSH :"
   ]
  },
  {
   "cell_type": "code",
   "execution_count": null,
   "metadata": {},
   "outputs": [],
   "source": [
    "# ssh -T git@github.com"
   ]
  },
  {
   "cell_type": "markdown",
   "metadata": {},
   "source": [
    "## 3. Création du Repository Principal\n",
    "\n",
    "### Création sur GitHub (Interface Web)\n",
    "\n",
    "1. Connectez-vous sur github.com\n",
    "2. Cliquez sur New repository (bouton vert)\n",
    "3. Repository name : data-engineering-bootcamp\n",
    "4. Description : Formation Data Engineering - 5 modules complets\n",
    "5. Cochez Public\n",
    "6. Cochez Add a README file\n",
    "7. Cochez Add .gitignore : Python\n",
    "8. Cochez Choose a license : MIT\n",
    "9. Cliquez Create repository"
   ]
  },
  {
   "cell_type": "markdown",
   "metadata": {},
   "source": [
    "### Clonage local et organisation\n",
    "\n",
    "Structure recommandée :\n",
    "```\n",
    "C:/Users/VotreNom/Documents/\n",
    "└── dev/\n",
    "    └── learning/\n",
    "        └── data-engineering-bootcamp/\n",
    "            ├── module1/\n",
    "            ├── module2/\n",
    "            ├── module3/\n",
    "            ├── module4/\n",
    "            ├── module5/\n",
    "            ├── docs/\n",
    "            ├── scripts/\n",
    "            └── README.md\n",
    "```"
   ]
  },
  {
   "cell_type": "code",
   "execution_count": null,
   "metadata": {},
   "outputs": [],
   "source": [
    "# Commandes Git Bash pour cloner et organiser :\n",
    "\n",
    "# Naviguer vers le bon dossier\n",
    "# cd /c/Users/VotreNom/Documents/\n",
    "# mkdir -p dev/learning\n",
    "# cd dev/learning\n",
    "\n",
    "# Cloner le repository\n",
    "# git clone git@github.com:VOTRE_USERNAME/data-engineering-bootcamp.git\n",
    "# cd data-engineering-bootcamp\n",
    "\n",
    "# Créer la structure des modules\n",
    "# mkdir -p {module1,module2,module3,module4,module5}\n",
    "# mkdir -p {docs,scripts,data,tests}\n",
    "\n",
    "# Créer les README de chaque module\n",
    "# echo '# Module 1 : Fondamentaux' > module1/README.md\n",
    "# echo '# Module 2 : Bases de données' > module2/README.md\n",
    "# echo '# Module 3 : Pipelines' > module3/README.md\n",
    "# echo '# Module 4 : Big Data' > module4/README.md\n",
    "# echo '# Module 5 : Projet Final' > module5/README.md"
   ]
  },
  {
   "cell_type": "markdown",
   "metadata": {},
   "source": [
    "### Workflow Git de base\n",
    "\n",
    "Les trois commandes fondamentales pour sauvegarder vos modifications :\n",
    "\n",
    "1. `git add .` - Prépare TOUS les fichiers modifiés pour le commit\n",
    "2. `git commit -m \"message\"` - Sauvegarde locale avec description\n",
    "3. `git push origin main` - Envoie vers GitHub\n",
    "\n",
    "Exemple de bon message de commit :"
   ]
  },
  {
   "cell_type": "code",
   "execution_count": null,
   "metadata": {},
   "outputs": [],
   "source": [
    "# git commit -m \"Ajout structure projet data engineering\n",
    "#\n",
    "# - Création des dossiers module1-5\n",
    "# - Ajout README pour chaque module\n",
    "# - Structure docs, scripts, data, tests\""
   ]
  },
  {
   "cell_type": "markdown",
   "metadata": {},
   "source": [
    "## 4. Installation et Configuration de Poetry\n",
    "\n",
    "### Qu'est-ce que Poetry et pourquoi l'utiliser\n",
    "\n",
    "Poetry est un gestionnaire de dépendances Python moderne qui remplace pip et virtualenv par un système intelligent et unifié.\n",
    "\n",
    "**Avantages de Poetry par rapport à pip/virtualenv :**\n",
    "\n",
    "**Gestion des dépendances :**\n",
    "- Résolution automatique des conflits de versions\n",
    "- Fichier pyproject.toml standardisé (PEP 518)\n",
    "- Séparation claire entre dépendances de production et de développement\n",
    "- Verrouillage des versions exactes avec poetry.lock\n",
    "\n",
    "**Environnements virtuels :**\n",
    "- Création et activation automatiques\n",
    "- Détection intelligente de l'environnement actif\n",
    "- Isolation complète entre projets\n",
    "\n",
    "**Workflow simplifié :**\n",
    "- Une seule commande pour installer toutes les dépendances\n",
    "- Publication sur PyPI intégrée\n",
    "- Gestion des versions de projet automatisée"
   ]
  },
  {
   "cell_type": "code",
   "execution_count": null,
   "metadata": {},
   "outputs": [],
   "source": [
    "# Installation de Poetry selon votre terminal :\n",
    "\n",
    "# Git Bash :\n",
    "# curl -sSL https://install.python-poetry.org | python -\n",
    "\n",
    "# PowerShell :\n",
    "# (Invoke-WebRequest -Uri https://install.python-poetry.org -UseBasicParsing).Content | python -"
   ]
  },
  {
   "cell_type": "markdown",
   "metadata": {},
   "source": [
    "### Configuration du PATH\n",
    "\n",
    "Poetry s'installe généralement dans `C:\\Users\\VOTRE_NOM\\AppData\\Roaming\\Python\\Scripts\\`\n",
    "\n",
    "Configuration du PATH pour Git Bash :"
   ]
  },
  {
   "cell_type": "code",
   "execution_count": null,
   "metadata": {},
   "outputs": [],
   "source": [
    "# Temporaire (session courante)\n",
    "# export PATH=\"/c/Users/VotreNom/AppData/Roaming/Python/Scripts:$PATH\"\n",
    "\n",
    "# Permanent (ajout au .bashrc)\n",
    "# echo 'export PATH=\"/c/Users/VotreNom/AppData/Roaming/Python/Scripts:$PATH\"' >> ~/.bashrc\n",
    "# source ~/.bashrc"
   ]
  },
  {
   "cell_type": "code",
   "execution_count": null,
   "metadata": {},
   "outputs": [],
   "source": [
    "# Configuration Poetry recommandée :\n",
    "\n",
    "# Créer les environnements virtuels dans le projet\n",
    "# poetry config virtualenvs.in-project true\n",
    "\n",
    "# Vérifier la configuration\n",
    "# poetry config --list\n",
    "\n",
    "# Tester Poetry\n",
    "# poetry --version"
   ]
  },
  {
   "cell_type": "markdown",
   "metadata": {},
   "source": [
    "**Avantages de `virtualenvs.in-project true` :**\n",
    "- Environnement virtuel dans .venv/ du projet\n",
    "- Détection automatique par VS Code\n",
    "- Gestion simplifiée (un environnement par projet)\n",
    "- Suppression facile (supprimer .venv/)\n",
    "- Isolation complète entre projets"
   ]
  },
  {
   "cell_type": "markdown",
   "metadata": {},
   "source": [
    "## 5. Premier Projet avec Poetry\n",
    "\n",
    "### Initialisation du projet Module 1\n",
    "\n",
    "Commandes à exécuter dans Git Bash :"
   ]
  },
  {
   "cell_type": "code",
   "execution_count": null,
   "metadata": {},
   "outputs": [],
   "source": [
    "# Aller dans module1\n",
    "# cd module1\n",
    "\n",
    "# Initialiser Poetry\n",
    "# poetry init"
   ]
  },
  {
   "cell_type": "markdown",
   "metadata": {},
   "source": [
    "**Processus d'initialisation Poetry - Questions et réponses recommandées :**\n",
    "- Package name [module1]: module1-fundamentals\n",
    "- Version [0.1.0]: [Entrée] (garder 0.1.0)\n",
    "- Description []: Module 1 - Fondamentaux Data Engineering\n",
    "- Author []: [Entrée] (détection automatique Git)\n",
    "- License []: MIT\n",
    "- Compatible Python versions [^3.12]: ^3.11\n",
    "- Define main dependencies? [no]: no\n",
    "- Define dev dependencies? [no]: no\n",
    "- Confirm generation? [yes]: yes"
   ]
  },
  {
   "cell_type": "markdown",
   "metadata": {},
   "source": [
    "### Ajout des dépendances\n",
    "\n",
    "**Pourquoi séparer les dépendances de production et de développement :**\n",
    "\n",
    "**PRODUCTION** (nécessaires au fonctionnement) :\n",
    "- Installation rapide en production\n",
    "- Image Docker légère\n",
    "- Surface d'attaque réduite\n",
    "- Performances optimales\n",
    "\n",
    "**DÉVELOPPEMENT** (outils de développement uniquement) :\n",
    "- Tous les outils disponibles localement\n",
    "- Tests et qualité de code\n",
    "- Notebooks et debug\n",
    "- Environnement complet pour le développement"
   ]
  },
  {
   "cell_type": "code",
   "execution_count": null,
   "metadata": {},
   "outputs": [],
   "source": [
    "# Commandes Poetry pour ajouter les dépendances :\n",
    "\n",
    "# Dépendances de production\n",
    "# poetry add pandas numpy requests sqlalchemy psycopg2-binary\n",
    "\n",
    "# Dépendances de développement\n",
    "# poetry add --group dev pytest black ruff pylint jupyter ipykernel\n",
    "\n",
    "# Activer l'environnement virtuel\n",
    "# poetry shell"
   ]
  },
  {
   "cell_type": "markdown",
   "metadata": {},
   "source": [
    "**Dépendances expliquées :**\n",
    "- **pandas** : Manipulation et analyse de données\n",
    "- **numpy** : Calculs numériques et arrays\n",
    "- **requests** : Requêtes HTTP pour APIs\n",
    "- **sqlalchemy** : ORM pour bases de données\n",
    "- **psycopg2-binary** : Driver PostgreSQL\n",
    "- **pytest** : Framework de tests unitaires\n",
    "- **black** : Formatage automatique du code\n",
    "- **ruff** : Linter rapide et moderne\n",
    "- **pylint** : Analyse statique approfondie\n",
    "- **jupyter** : Notebooks interactifs\n",
    "- **ipykernel** : Kernel Jupyter pour Python"
   ]
  },
  {
   "cell_type": "markdown",
   "metadata": {},
   "source": [
    "## 6. Structure Finale du Projet\n",
    "\n",
    "Structure finale recommandée :\n",
    "```\n",
    "data-engineering-bootcamp/\n",
    "├── module1/                          # Module actuel\n",
    "│   ├── src/                         # Code source Python\n",
    "│   ├── tests/                       # Tests unitaires\n",
    "│   ├── notebooks/                   # Cours Jupyter interactifs\n",
    "│   ├── data/                        # Données générées (ignorées par Git)\n",
    "│   ├── pyproject.toml              # Configuration Poetry\n",
    "│   ├── poetry.lock                 # Versions exactes (généré)\n",
    "│   ├── .venv/                      # Environnement virtuel (généré)\n",
    "│   └── README.md                   # Documentation du module\n",
    "├── module2/                          # Bases de données (à venir)\n",
    "├── module3/                          # Orchestration (à venir)\n",
    "├── module4/                          # Big Data (à venir)\n",
    "├── module5/                          # Projet final (à venir)\n",
    "├── docs/                            # Documentation générale\n",
    "├── scripts/                         # Scripts d'automatisation\n",
    "└── README.md                       # Documentation principale\n",
    "```"
   ]
  },
  {
   "cell_type": "markdown",
   "metadata": {},
   "source": [
    "### Prochaines étapes\n",
    "\n",
    "1. Créer le premier pipeline ETL (hello_data.py)\n",
    "2. Écrire des tests unitaires\n",
    "3. Configurer les outils de qualité (Black, Ruff)\n",
    "4. Créer des visualisations de données\n",
    "5. Documenter le code et les processus\n",
    "6. Mettre en place CI/CD avec GitHub Actions\n",
    "\n",
    "Sauvegarder votre travail sur GitHub :"
   ]
  },
  {
   "cell_type": "code",
   "execution_count": null,
   "metadata": {},
   "outputs": [],
   "source": [
    "# git add .\n",
    "# git commit -m \"Configuration environnement Data Engineering complet\n",
    "#\n",
    "# - Setup Python 3.11+, VS Code, Git\n",
    "# - Configuration GitHub avec SSH et 2FA\n",
    "# - Installation et configuration Poetry\n",
    "# - Premier projet avec dépendances séparées\n",
    "# - Structure projet complète\"\n",
    "#\n",
    "# git push origin main"
   ]
  },
  {
   "cell_type": "markdown",
   "metadata": {},
   "source": [
    "## Résumé et Validation\n",
    "\n",
    "### Checklist de validation\n",
    "- Python 3.11+ installé et fonctionnel\n",
    "- VS Code installé avec extensions recommandées\n",
    "- Git configuré avec nom et email\n",
    "- GitHub configuré avec 2FA activé\n",
    "- Clés SSH générées et ajoutées sur GitHub\n",
    "- Test SSH réussi (ssh -T git@github.com)\n",
    "- Repository data-engineering-bootcamp créé et cloné\n",
    "- Structure des modules créée\n",
    "- Poetry installé et configuré\n",
    "- Projet module1 initialisé avec Poetry\n",
    "- Dépendances installées (production + développement)\n",
    "- Environnement virtuel fonctionnel\n",
    "\n",
    "### Compétences acquises\n",
    "\n",
    "Configuration d'environnement professionnel Python/Git/VS Code, sécurisation GitHub avec SSH et authentification 2FA, gestion moderne des dépendances avec Poetry, workflow Git pour versioning et collaboration, organisation de projet Data Engineering, et bonnes pratiques de développement et documentation.\n",
    "\n",
    "**Félicitations ! Votre environnement Data Engineering est maintenant configuré et opérationnel.**"
   ]
  }
 ],
 "metadata": {
  "kernelspec": {
   "display_name": "Python 3",
   "language": "python",
   "name": "python3"
  },
  "language_info": {
   "codemirror_mode": {
    "name": "ipython",
    "version": 3
   },
   "file_extension": ".py",
   "mimetype": "text/x-python",
   "name": "python",
   "nbconvert_exporter": "python",
   "pygments_lexer": "ipython3",
   "version": "3.11.0"
  }
 },
 "nbformat": 4,
 "nbformat_minor": 4
}
